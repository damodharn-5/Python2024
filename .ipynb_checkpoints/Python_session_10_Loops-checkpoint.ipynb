{
 "cells": [
  {
   "cell_type": "code",
   "execution_count": 1,
   "id": "ee6be235",
   "metadata": {},
   "outputs": [
    {
     "name": "stdout",
     "output_type": "stream",
     "text": [
      "50\n"
     ]
    }
   ],
   "source": [
    "# THIS IS THE CODE TO UPDATE THE FILE IN GIT\n",
    "A=20\n",
    "B=30\n",
    "C= A+B\n",
    "print(C)"
   ]
  },
  {
   "cell_type": "markdown",
   "id": "8f7a44b8-3785-4e23-b78b-1dc3a7220684",
   "metadata": {},
   "source": [
    "**Loops**\n",
    "\n",
    "- Iterate a piece of code untill the condition satisfy\n",
    "\n",
    "- we can run a code normally\n",
    "\n",
    "- we can run a code by using function wrapper(functions)\n",
    "\n",
    "- we can run a code multiple times (loops)\n",
    "\n",
    "- we can run a code by using condition (conditions)"
   ]
  },
  {
   "cell_type": "code",
   "execution_count": 1,
   "id": "984e8e01-4622-4abd-8a7c-a63f17087b0a",
   "metadata": {},
   "outputs": [
    {
     "name": "stdout",
     "output_type": "stream",
     "text": [
      "30\n"
     ]
    }
   ],
   "source": [
    "a=10\n",
    "b=20\n",
    "c=a+b\n",
    "print(c)"
   ]
  },
  {
   "cell_type": "code",
   "execution_count": 2,
   "id": "d5208bc2-8a91-494c-8d3a-68d5382627c7",
   "metadata": {},
   "outputs": [
    {
     "name": "stdout",
     "output_type": "stream",
     "text": [
      "30\n"
     ]
    }
   ],
   "source": [
    "if True :\n",
    "    a=10\n",
    "    b=20\n",
    "    c=a+b\n",
    "    print(c)"
   ]
  },
  {
   "cell_type": "code",
   "execution_count": 3,
   "id": "0e94b1ca-c863-45aa-84a3-442d46d0c18d",
   "metadata": {},
   "outputs": [
    {
     "name": "stdout",
     "output_type": "stream",
     "text": [
      "30\n"
     ]
    }
   ],
   "source": [
    "def add():\n",
    "    a=10\n",
    "    b=20\n",
    "    c=a+b\n",
    "    print(c)\n",
    "\n",
    "add()"
   ]
  },
  {
   "cell_type": "code",
   "execution_count": null,
   "id": "742b7715-9e08-499e-85a9-6cf36a5079f4",
   "metadata": {},
   "outputs": [],
   "source": [
    "salary= eval(input('enter the salary:'))\n",
    "tax_per=eval(input(\"enter the tax_per:\"))\n",
    "tax_amount=salary*tax_per/100\n",
    "print(tax_amount)\n",
    "\n",
    "salary= eval(input('enter the salary:'))\n",
    "tax_per=eval(input(\"enter the tax_per:\"))\n",
    "tax_amount=salary*tax_per/100\n",
    "print(tax_amount)\n",
    "\n",
    "salary= eval(input('enter the salary:'))\n",
    "tax_per=eval(input(\"enter the tax_per:\"))\n",
    "tax_amount=salary*tax_per/100\n",
    "print(tax_amount)"
   ]
  },
  {
   "cell_type": "code",
   "execution_count": null,
   "id": "4c728a45-5a9e-453e-85be-5ccf81c5a14e",
   "metadata": {},
   "outputs": [],
   "source": [
    "def tax():\n",
    "    salary= eval(input('enter the salary:'))\n",
    "    tax_per=eval(input(\"enter the tax_per:\"))\n",
    "    tax_amount=salary*tax_per/100\n",
    "    print(tax_amount\n",
    "\n",
    "tax()"
   ]
  },
  {
   "cell_type": "markdown",
   "id": "46fb6dcd-b87a-4852-808f-cb2c8ed5803d",
   "metadata": {},
   "source": [
    "- For loop\n",
    "\n",
    "- While loop\n",
    "\n",
    "- any loop\n",
    "\n",
    "    - Intial point to start the loop\n",
    "\n",
    "    - increment or decrement\n",
    "\n",
    "    - condition to stop the loop"
   ]
  },
  {
   "cell_type": "markdown",
   "id": "6d38caaf-b87c-400f-b7c3-92b5e04f72e8",
   "metadata": {},
   "source": [
    "## For loop"
   ]
  },
  {
   "cell_type": "markdown",
   "id": "db92a0fc-3e5f-430c-a1aa-8826ee8f5b61",
   "metadata": {},
   "source": [
    "$Pattern-1$"
   ]
  },
  {
   "cell_type": "markdown",
   "id": "470b05d2-8315-49c6-b591-c7273b36f74b",
   "metadata": {},
   "source": [
    "**range(stop)**"
   ]
  },
  {
   "cell_type": "code",
   "execution_count": null,
   "id": "7451ddd2-bbc5-4ce9-8a51-edc73efcd3d2",
   "metadata": {},
   "outputs": [],
   "source": [
    "# syntax\n",
    "for i in range(<value>):\n",
    "    # start write your code"
   ]
  },
  {
   "cell_type": "markdown",
   "id": "25d41dd6-6432-44d7-97c9-2dcfe9c6c125",
   "metadata": {},
   "source": [
    "- when ever you see the word range it belongs to math family\n",
    "\n",
    "- inside range we need to provide one value ex: range(3)\n",
    "\n",
    "- If you provide only one value \n",
    "\n",
    "    - start value =0\n",
    "\n",
    "    - increment = +1\n",
    "\n",
    "    - last = stop-1\n",
    "\n",
    "- range(3)\n",
    "\n",
    "    - start value =0\n",
    "\n",
    "    - increment = 1\n",
    "\n",
    "    - last = 3-1 =2\n",
    "\n",
    "    - answers are : 0  1  2\n",
    "\n",
    "**NOTE**:  In Python the index always start with zero"
   ]
  },
  {
   "cell_type": "code",
   "execution_count": 4,
   "id": "d86aa7d2-750a-4f54-afd6-056b324aca69",
   "metadata": {},
   "outputs": [
    {
     "name": "stdout",
     "output_type": "stream",
     "text": [
      "0\n",
      "1\n",
      "2\n"
     ]
    }
   ],
   "source": [
    "for i in range(3):\n",
    "    print(i)"
   ]
  },
  {
   "cell_type": "code",
   "execution_count": null,
   "id": "8a417cd0-4238-4aac-8b77-abf01e5a6125",
   "metadata": {},
   "outputs": [],
   "source": [
    "print(0)\n",
    "print(1)\n",
    "print(2)\n",
    "print(3)\n",
    "print(4)\n",
    "\n",
    "print(i)"
   ]
  },
  {
   "cell_type": "code",
   "execution_count": 5,
   "id": "2e78a78d-f2d7-4cea-8c1a-57cccefaffc8",
   "metadata": {},
   "outputs": [
    {
     "name": "stdout",
     "output_type": "stream",
     "text": [
      "hello\n",
      "hello\n",
      "hello\n",
      "hello\n",
      "hello\n"
     ]
    }
   ],
   "source": [
    "# I want to print hello 5 times\n",
    "for i in range(5):\n",
    "    print(\"hello\")"
   ]
  },
  {
   "cell_type": "code",
   "execution_count": 6,
   "id": "18b85014-adae-41b1-85cb-543df028e79b",
   "metadata": {},
   "outputs": [
    {
     "name": "stdout",
     "output_type": "stream",
     "text": [
      "6 is even\n"
     ]
    }
   ],
   "source": [
    "# For example \n",
    "# take a random number between  1 to 100\n",
    "# print it is a even number and odd number\n",
    "# you need to generate 3 random number \n",
    "\n",
    "import random\n",
    "num=random.randint(1,100)\n",
    "if num%2==0:\n",
    "    print(f\"{num} is even\")\n",
    "else:\n",
    "    print(f\"{num} is odd\")\n",
    "\n",
    "import random\n",
    "num=random.randint(1,100)\n",
    "if num%2==0:\n",
    "    print(f\"{num} is even\")\n",
    "else:\n",
    "    print(f\"{num} is odd\")\n",
    "\n",
    "import random\n",
    "num=random.randint(1,100)\n",
    "if num%2==0:\n",
    "    print(f\"{num} is even\")\n",
    "else:\n",
    "    print(f\"{num} is odd\")"
   ]
  },
  {
   "cell_type": "code",
   "execution_count": 7,
   "id": "b145fe6b-c94e-4872-a388-a7acbed8e62a",
   "metadata": {},
   "outputs": [
    {
     "name": "stdout",
     "output_type": "stream",
     "text": [
      "32 is even\n",
      "11 is odd\n",
      "51 is odd\n"
     ]
    }
   ],
   "source": [
    "import random\n",
    "for i in range(3):\n",
    "    num=random.randint(1,100)\n",
    "    if num%2==0:\n",
    "        print(f\"{num} is even\")\n",
    "    else:\n",
    "        print(f\"{num} is odd\")"
   ]
  },
  {
   "cell_type": "code",
   "execution_count": 8,
   "id": "008891b9-05e2-4caf-ba83-5b0f69a2cabe",
   "metadata": {},
   "outputs": [
    {
     "name": "stdout",
     "output_type": "stream",
     "text": [
      "0\n",
      "1\n",
      "2\n",
      "3\n",
      "4\n",
      "5\n",
      "6\n",
      "7\n",
      "8\n",
      "9\n"
     ]
    }
   ],
   "source": [
    "for i in range(10):\n",
    "    print(i)"
   ]
  },
  {
   "cell_type": "code",
   "execution_count": 12,
   "id": "6545f8eb-df82-4888-998f-426e83d5c409",
   "metadata": {},
   "outputs": [
    {
     "name": "stdout",
     "output_type": "stream",
     "text": [
      "0 1 2 3 4\n",
      "9\n"
     ]
    }
   ],
   "source": [
    "print(0,end=' ')\n",
    "print(1,end=' ')\n",
    "print(2,end=' ')\n",
    "print(3,end=' ')\n",
    "print(4)\n",
    "\n",
    "print(i,end=' ')"
   ]
  },
  {
   "cell_type": "code",
   "execution_count": 13,
   "id": "220e3540-8903-4d71-975f-dd2c1bce08c8",
   "metadata": {},
   "outputs": [
    {
     "name": "stdout",
     "output_type": "stream",
     "text": [
      "0 1 2 3 4 5 6 7 8 9 "
     ]
    }
   ],
   "source": [
    "for i in range(10):\n",
    "    print(i,end=' ')"
   ]
  },
  {
   "cell_type": "code",
   "execution_count": null,
   "id": "3d9f18ea-882b-47bb-94a8-ba2f4afc143e",
   "metadata": {},
   "outputs": [],
   "source": [
    "# sep : will seperate multiple values in same print staement\n",
    "# end: combine the multiple print statements"
   ]
  },
  {
   "cell_type": "markdown",
   "id": "5113a102-f1a9-4b01-8c22-a4d07fecd6b1",
   "metadata": {},
   "source": [
    "$Pattern-2$\n",
    "\n",
    "**range(start,stop)**\n",
    "\n",
    "- range(10,20)\n",
    "\n",
    "    - start value= 10\n",
    "\n",
    "    - increment= 1\n",
    "\n",
    "    - last = stop-1 = 20-1=19\n",
    "\n",
    "    - ans: 10 11 12 13 14 15 16 17 18 19"
   ]
  },
  {
   "cell_type": "code",
   "execution_count": 14,
   "id": "9e188d90-3ca3-48b6-860c-976157584d61",
   "metadata": {},
   "outputs": [
    {
     "name": "stdout",
     "output_type": "stream",
     "text": [
      "10 11 12 13 14 15 16 17 18 19 "
     ]
    }
   ],
   "source": [
    "for i in range(10,20):\n",
    "    print(i,end=' ')"
   ]
  },
  {
   "cell_type": "code",
   "execution_count": 15,
   "id": "8e0f983a-42b0-4953-9894-e4485ba5d500",
   "metadata": {},
   "outputs": [
    {
     "name": "stdout",
     "output_type": "stream",
     "text": [
      "the square of 20 is 400\n",
      "the square of 21 is 441\n",
      "the square of 22 is 484\n",
      "the square of 23 is 529\n",
      "the square of 24 is 576\n"
     ]
    }
   ],
   "source": [
    "# wap ask the user print the square of the number between\n",
    "# 20 to 25\n",
    "for i in range(20,25):\n",
    "    print(f\"the square of {i} is {i*i}\")\n",
    "# wap ask the user print the number is even or odd between 10 to 20\n"
   ]
  },
  {
   "cell_type": "code",
   "execution_count": 16,
   "id": "1650816b-3218-4961-8a3a-85e20f7609a1",
   "metadata": {},
   "outputs": [
    {
     "name": "stdout",
     "output_type": "stream",
     "text": [
      "10 is even\n",
      "11 is odd\n",
      "12 is even\n",
      "13 is odd\n",
      "14 is even\n",
      "15 is odd\n",
      "16 is even\n",
      "17 is odd\n",
      "18 is even\n",
      "19 is odd\n"
     ]
    }
   ],
   "source": [
    "# wap ask the user print the number is even or odd between 10 to 20\n",
    "for i in range(10,20):\n",
    "    if i%2==0:\n",
    "        print(f\"{i} is even\")\n",
    "    else:\n",
    "        print(f\"{i} is odd\")"
   ]
  },
  {
   "cell_type": "code",
   "execution_count": 20,
   "id": "aa092368-1efd-4901-9170-5a4ae1f6b177",
   "metadata": {},
   "outputs": [
    {
     "name": "stdout",
     "output_type": "stream",
     "text": [
      "95 is odd\n",
      "93 is odd\n",
      "40 is even\n"
     ]
    }
   ],
   "source": [
    "import random\n",
    "for i in range(1001,1004):\n",
    "    num=random.randint(1,100)\n",
    "    if num%2==0:\n",
    "        print(f\"{num} is even\")\n",
    "    else:\n",
    "        print(f\"{num} is odd\")"
   ]
  },
  {
   "cell_type": "markdown",
   "id": "7b70a351-268e-4700-abe0-ad5d4b96097e",
   "metadata": {},
   "source": [
    "$Pattern-3$\n",
    "\n",
    "**range(start,stop,step)**\n",
    "\n",
    "- start value = start values\n",
    "\n",
    "- step value\n",
    "\n",
    "    - Postive step value\n",
    "\n",
    "        - if step value is positive: increment\n",
    "\n",
    "        - last = stop-1\n",
    "\n",
    "    - negative step value\n",
    "\n",
    "        - if step value is negative: decrement\n",
    "\n",
    "        - last = stop+1"
   ]
  },
  {
   "cell_type": "code",
   "execution_count": 21,
   "id": "be7aa60a-335e-4ac0-ad56-7a2662f9d920",
   "metadata": {},
   "outputs": [
    {
     "name": "stdout",
     "output_type": "stream",
     "text": [
      "2 4 6 8 10 12 14 16 18 "
     ]
    }
   ],
   "source": [
    "# case-1:\n",
    "for i in range(2,20,2):  # range(start,stop,step)\n",
    "    print(i,end=' ')\n",
    "\n",
    "# start=2\n",
    "# step= +ve  2\n",
    "# last= stop-1= 20-1=19\n",
    "# 2 4 6 8 10 12 14 16 18 "
   ]
  },
  {
   "cell_type": "code",
   "execution_count": 22,
   "id": "812f14b9-ff20-4ce1-9a45-ba1a9e67a7fb",
   "metadata": {},
   "outputs": [
    {
     "name": "stdout",
     "output_type": "stream",
     "text": [
      "10 "
     ]
    }
   ],
   "source": [
    "for i in range(10,20,30):\n",
    "    print(i,end=' ')\n",
    "# start=10\n",
    "# step=30\n",
    "# last= 20-1=19\n",
    "# 10"
   ]
  },
  {
   "cell_type": "code",
   "execution_count": 23,
   "id": "0609c731-f801-4061-937b-e113b1b1c953",
   "metadata": {},
   "outputs": [],
   "source": [
    "# case-2:\n",
    "for i in range(2,20,-2):  # range(start,stop,step)\n",
    "    print(i,end=' ')\n",
    "\n",
    "# start=2\n",
    "# step= -2  negative direction\n",
    "# last= stop+1 : 20+1 =21"
   ]
  },
  {
   "cell_type": "code",
   "execution_count": 24,
   "id": "4747e329-0f3b-476a-ad47-e7c5a5f4615e",
   "metadata": {},
   "outputs": [
    {
     "name": "stdout",
     "output_type": "stream",
     "text": [
      "20 18 16 14 12 10 8 6 4 "
     ]
    }
   ],
   "source": [
    "# case-3:\n",
    "for i in range(20,2,-2):  # range(start,stop,step)\n",
    "    print(i,end=' ')\n",
    "\n",
    "# start=20\n",
    "# step= -2 negative\n",
    "# last= stop+1= 2+1 =3\n",
    "# 20 18 16 14 12 10 8 6 4 "
   ]
  },
  {
   "cell_type": "code",
   "execution_count": 25,
   "id": "9bc79776-40e5-442e-ade2-fecfd79824ba",
   "metadata": {},
   "outputs": [],
   "source": [
    "# case-4:\n",
    "for i in range(-20,2,-2):  # range(start,stop,step)\n",
    "    print(i,end=' ')\n",
    "\n",
    "# start= -20\n",
    "# step= -2  neg\n",
    "# last= stop+1 = 2+1=3"
   ]
  },
  {
   "cell_type": "code",
   "execution_count": null,
   "id": "e0f8a33a-85ac-4012-9dc0-c2db31e019cc",
   "metadata": {},
   "outputs": [],
   "source": [
    "range(3,20,2) # P\n",
    "range(3,20,-2) # NP\n",
    "range(3,-20,2) # NP\n",
    "range(3,-20,-2) # P\n",
    "range(-3,20,2) # P\n",
    "range(-3,-20,2) # NP\n",
    "range(-3,20,-2) # NP\n",
    "range(-3,-20,-2) # P\n",
    "range(20,3,2) # NP\n",
    "range(20,3,-2) # P\n",
    "range(20,-3,-2) # P\n",
    "range(-20,-3,-2) #NP "
   ]
  },
  {
   "cell_type": "code",
   "execution_count": 26,
   "id": "75035b02-5b1f-4acf-89d9-5892e8d07cbb",
   "metadata": {},
   "outputs": [
    {
     "name": "stdout",
     "output_type": "stream",
     "text": [
      "20 18 16 14 12 10 8 6 4 2 0 -2 "
     ]
    }
   ],
   "source": [
    "for i in range(20,-3,-2):\n",
    "    print(i,end=' ')"
   ]
  },
  {
   "cell_type": "code",
   "execution_count": null,
   "id": "297a83cf-e719-4975-a4df-c4d0fb1ce060",
   "metadata": {},
   "outputs": [],
   "source": []
  }
 ],
 "metadata": {
  "kernelspec": {
   "display_name": "Python 3 (ipykernel)",
   "language": "python",
   "name": "python3"
  },
  "language_info": {
   "codemirror_mode": {
    "name": "ipython",
    "version": 3
   },
   "file_extension": ".py",
   "mimetype": "text/x-python",
   "name": "python",
   "nbconvert_exporter": "python",
   "pygments_lexer": "ipython3",
   "version": "3.9.13"
  }
 },
 "nbformat": 4,
 "nbformat_minor": 5
}
